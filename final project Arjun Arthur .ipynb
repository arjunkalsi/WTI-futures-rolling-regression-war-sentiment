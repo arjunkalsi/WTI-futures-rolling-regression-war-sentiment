{
 "cells": [
  {
   "cell_type": "markdown",
   "metadata": {},
   "source": [
    "### It can be theorised that WTI price is equal to some function f(USD, inflation, storage). So let's first perform a rolling regression on these factors from in order to choose the optimal parameters:"
   ]
  },
  {
   "cell_type": "code",
   "execution_count": 1,
   "metadata": {},
   "outputs": [
    {
     "name": "stderr",
     "output_type": "stream",
     "text": [
      "/Users/arjunkalsi/anaconda3/lib/python3.7/site-packages/pandas/compat/_optional.py:138: UserWarning: Pandas requires version '2.7.0' or newer of 'numexpr' (version '2.6.9' currently installed).\n",
      "  warnings.warn(msg, UserWarning)\n"
     ]
    }
   ],
   "source": [
    "#Importing all necessary packages\n",
    "import numpy as np\n",
    "import pandas as pd\n",
    "import matplotlib.pyplot as plt\n",
    "import datetime\n",
    "import warnings\n",
    "warnings.filterwarnings('ignore')"
   ]
  },
  {
   "cell_type": "markdown",
   "metadata": {},
   "source": [
    "### WTI 1 month future prices 2010-2019:"
   ]
  },
  {
   "cell_type": "code",
   "execution_count": 2,
   "metadata": {
    "scrolled": false
   },
   "outputs": [
    {
     "data": {
      "text/html": [
       "<div>\n",
       "<style scoped>\n",
       "    .dataframe tbody tr th:only-of-type {\n",
       "        vertical-align: middle;\n",
       "    }\n",
       "\n",
       "    .dataframe tbody tr th {\n",
       "        vertical-align: top;\n",
       "    }\n",
       "\n",
       "    .dataframe thead th {\n",
       "        text-align: right;\n",
       "    }\n",
       "</style>\n",
       "<table border=\"1\" class=\"dataframe\">\n",
       "  <thead>\n",
       "    <tr style=\"text-align: right;\">\n",
       "      <th></th>\n",
       "      <th>F1</th>\n",
       "    </tr>\n",
       "    <tr>\n",
       "      <th>Date</th>\n",
       "      <th></th>\n",
       "    </tr>\n",
       "  </thead>\n",
       "  <tbody>\n",
       "    <tr>\n",
       "      <th>2009-08-07</th>\n",
       "      <td>70.93</td>\n",
       "    </tr>\n",
       "    <tr>\n",
       "      <th>2009-08-10</th>\n",
       "      <td>70.60</td>\n",
       "    </tr>\n",
       "    <tr>\n",
       "      <th>2009-08-11</th>\n",
       "      <td>69.45</td>\n",
       "    </tr>\n",
       "    <tr>\n",
       "      <th>2009-08-12</th>\n",
       "      <td>70.16</td>\n",
       "    </tr>\n",
       "    <tr>\n",
       "      <th>2009-08-13</th>\n",
       "      <td>70.52</td>\n",
       "    </tr>\n",
       "    <tr>\n",
       "      <th>...</th>\n",
       "      <td>...</td>\n",
       "    </tr>\n",
       "    <tr>\n",
       "      <th>2009-12-22</th>\n",
       "      <td>74.40</td>\n",
       "    </tr>\n",
       "    <tr>\n",
       "      <th>2009-12-23</th>\n",
       "      <td>76.67</td>\n",
       "    </tr>\n",
       "    <tr>\n",
       "      <th>2009-12-24</th>\n",
       "      <td>78.05</td>\n",
       "    </tr>\n",
       "    <tr>\n",
       "      <th>2009-12-28</th>\n",
       "      <td>78.77</td>\n",
       "    </tr>\n",
       "    <tr>\n",
       "      <th>2009-12-29</th>\n",
       "      <td>78.87</td>\n",
       "    </tr>\n",
       "  </tbody>\n",
       "</table>\n",
       "<p>100 rows × 1 columns</p>\n",
       "</div>"
      ],
      "text/plain": [
       "               F1\n",
       "Date             \n",
       "2009-08-07  70.93\n",
       "2009-08-10  70.60\n",
       "2009-08-11  69.45\n",
       "2009-08-12  70.16\n",
       "2009-08-13  70.52\n",
       "...           ...\n",
       "2009-12-22  74.40\n",
       "2009-12-23  76.67\n",
       "2009-12-24  78.05\n",
       "2009-12-28  78.77\n",
       "2009-12-29  78.87\n",
       "\n",
       "[100 rows x 1 columns]"
      ]
     },
     "execution_count": 2,
     "metadata": {},
     "output_type": "execute_result"
    }
   ],
   "source": [
    "data_prices_crude         = pd.read_excel('PET_PRI_FUT_S1_D.xls', sheet_name = 'Data 1', skiprows = 2)\n",
    "data_prices_crude.columns = ['Date', 'F1', 'F2', 'F3', 'F4']\n",
    "data_prices_crude         = data_prices_crude[(data_prices_crude['Date'] >= '2009-08-07') & (data_prices_crude['Date'] <= '2021-12-31')]\n",
    "data_prices_crude         = data_prices_crude.set_index('Date')\n",
    "data_prices_crude.drop(columns=['F2','F3','F4'],inplace=True)\n",
    "data_prices_crude.head(100)"
   ]
  },
  {
   "cell_type": "markdown",
   "metadata": {},
   "source": [
    "### 10 year breakeven inflation rate 2010-2019:"
   ]
  },
  {
   "cell_type": "code",
   "execution_count": 3,
   "metadata": {},
   "outputs": [
    {
     "data": {
      "text/html": [
       "<div>\n",
       "<style scoped>\n",
       "    .dataframe tbody tr th:only-of-type {\n",
       "        vertical-align: middle;\n",
       "    }\n",
       "\n",
       "    .dataframe tbody tr th {\n",
       "        vertical-align: top;\n",
       "    }\n",
       "\n",
       "    .dataframe thead th {\n",
       "        text-align: right;\n",
       "    }\n",
       "</style>\n",
       "<table border=\"1\" class=\"dataframe\">\n",
       "  <thead>\n",
       "    <tr style=\"text-align: right;\">\n",
       "      <th></th>\n",
       "      <th>Inflation Rate</th>\n",
       "    </tr>\n",
       "    <tr>\n",
       "      <th>Date</th>\n",
       "      <th></th>\n",
       "    </tr>\n",
       "  </thead>\n",
       "  <tbody>\n",
       "    <tr>\n",
       "      <th>2009-08-12</th>\n",
       "      <td>1.88</td>\n",
       "    </tr>\n",
       "    <tr>\n",
       "      <th>2009-08-13</th>\n",
       "      <td>1.79</td>\n",
       "    </tr>\n",
       "    <tr>\n",
       "      <th>2009-08-14</th>\n",
       "      <td>1.70</td>\n",
       "    </tr>\n",
       "    <tr>\n",
       "      <th>2009-08-17</th>\n",
       "      <td>1.69</td>\n",
       "    </tr>\n",
       "    <tr>\n",
       "      <th>2009-08-18</th>\n",
       "      <td>1.73</td>\n",
       "    </tr>\n",
       "  </tbody>\n",
       "</table>\n",
       "</div>"
      ],
      "text/plain": [
       "            Inflation Rate\n",
       "Date                      \n",
       "2009-08-12            1.88\n",
       "2009-08-13            1.79\n",
       "2009-08-14            1.70\n",
       "2009-08-17            1.69\n",
       "2009-08-18            1.73"
      ]
     },
     "execution_count": 3,
     "metadata": {},
     "output_type": "execute_result"
    }
   ],
   "source": [
    "inflation_rate         = pd.read_excel('T10YIE.xls', skiprows = 10)\n",
    "inflation_rate.columns = ['Date','Inflation Rate']\n",
    "inflation_rate         = inflation_rate[(inflation_rate['Date'] >= '2009-08-12') & (inflation_rate['Date'] <= '2021-12-31')]\n",
    "inflation_rate         = inflation_rate.set_index('Date')\n",
    "inflation_rate.head()"
   ]
  },
  {
   "cell_type": "markdown",
   "metadata": {},
   "source": [
    "### Nominal USD Index 2010-2019:"
   ]
  },
  {
   "cell_type": "code",
   "execution_count": 4,
   "metadata": {
    "scrolled": true
   },
   "outputs": [
    {
     "data": {
      "text/html": [
       "<div>\n",
       "<style scoped>\n",
       "    .dataframe tbody tr th:only-of-type {\n",
       "        vertical-align: middle;\n",
       "    }\n",
       "\n",
       "    .dataframe tbody tr th {\n",
       "        vertical-align: top;\n",
       "    }\n",
       "\n",
       "    .dataframe thead th {\n",
       "        text-align: right;\n",
       "    }\n",
       "</style>\n",
       "<table border=\"1\" class=\"dataframe\">\n",
       "  <thead>\n",
       "    <tr style=\"text-align: right;\">\n",
       "      <th></th>\n",
       "      <th>USD Index</th>\n",
       "    </tr>\n",
       "    <tr>\n",
       "      <th>Date</th>\n",
       "      <th></th>\n",
       "    </tr>\n",
       "  </thead>\n",
       "  <tbody>\n",
       "    <tr>\n",
       "      <th>2009-08-07</th>\n",
       "      <td>94.4692</td>\n",
       "    </tr>\n",
       "    <tr>\n",
       "      <th>2009-08-10</th>\n",
       "      <td>94.6087</td>\n",
       "    </tr>\n",
       "    <tr>\n",
       "      <th>2009-08-11</th>\n",
       "      <td>94.8678</td>\n",
       "    </tr>\n",
       "    <tr>\n",
       "      <th>2009-08-12</th>\n",
       "      <td>94.5394</td>\n",
       "    </tr>\n",
       "    <tr>\n",
       "      <th>2009-08-13</th>\n",
       "      <td>94.2392</td>\n",
       "    </tr>\n",
       "  </tbody>\n",
       "</table>\n",
       "</div>"
      ],
      "text/plain": [
       "            USD Index\n",
       "Date                 \n",
       "2009-08-07    94.4692\n",
       "2009-08-10    94.6087\n",
       "2009-08-11    94.8678\n",
       "2009-08-12    94.5394\n",
       "2009-08-13    94.2392"
      ]
     },
     "execution_count": 4,
     "metadata": {},
     "output_type": "execute_result"
    }
   ],
   "source": [
    "exchange_rate         = pd.read_excel('DTWEXBGS.xls', skiprows = 10)\n",
    "exchange_rate.columns = ['Date','USD Index']\n",
    "exchange_rate         = exchange_rate[(exchange_rate['Date'] >= '2009-08-07') & (exchange_rate['Date'] <= '2021-12-31')]\n",
    "exchange_rate         = exchange_rate.set_index('Date')\n",
    "exchange_rate.head()"
   ]
  },
  {
   "cell_type": "markdown",
   "metadata": {},
   "source": [
    "### Weekly stock data 2010-2019:"
   ]
  },
  {
   "cell_type": "code",
   "execution_count": 5,
   "metadata": {},
   "outputs": [
    {
     "data": {
      "text/html": [
       "<div>\n",
       "<style scoped>\n",
       "    .dataframe tbody tr th:only-of-type {\n",
       "        vertical-align: middle;\n",
       "    }\n",
       "\n",
       "    .dataframe tbody tr th {\n",
       "        vertical-align: top;\n",
       "    }\n",
       "\n",
       "    .dataframe thead th {\n",
       "        text-align: right;\n",
       "    }\n",
       "</style>\n",
       "<table border=\"1\" class=\"dataframe\">\n",
       "  <thead>\n",
       "    <tr style=\"text-align: right;\">\n",
       "      <th></th>\n",
       "      <th>Stocks</th>\n",
       "    </tr>\n",
       "    <tr>\n",
       "      <th>Date</th>\n",
       "      <th></th>\n",
       "    </tr>\n",
       "  </thead>\n",
       "  <tbody>\n",
       "    <tr>\n",
       "      <th>2009-08-07</th>\n",
       "      <td>1058086</td>\n",
       "    </tr>\n",
       "    <tr>\n",
       "      <th>2009-08-14</th>\n",
       "      <td>1049688</td>\n",
       "    </tr>\n",
       "    <tr>\n",
       "      <th>2009-08-21</th>\n",
       "      <td>1049816</td>\n",
       "    </tr>\n",
       "    <tr>\n",
       "      <th>2009-08-28</th>\n",
       "      <td>1049443</td>\n",
       "    </tr>\n",
       "    <tr>\n",
       "      <th>2009-09-04</th>\n",
       "      <td>1043637</td>\n",
       "    </tr>\n",
       "    <tr>\n",
       "      <th>...</th>\n",
       "      <td>...</td>\n",
       "    </tr>\n",
       "    <tr>\n",
       "      <th>2011-06-03</th>\n",
       "      <td>1073439</td>\n",
       "    </tr>\n",
       "    <tr>\n",
       "      <th>2011-06-10</th>\n",
       "      <td>1070033</td>\n",
       "    </tr>\n",
       "    <tr>\n",
       "      <th>2011-06-17</th>\n",
       "      <td>1068311</td>\n",
       "    </tr>\n",
       "    <tr>\n",
       "      <th>2011-06-24</th>\n",
       "      <td>1063936</td>\n",
       "    </tr>\n",
       "    <tr>\n",
       "      <th>2011-07-01</th>\n",
       "      <td>1063063</td>\n",
       "    </tr>\n",
       "  </tbody>\n",
       "</table>\n",
       "<p>100 rows × 1 columns</p>\n",
       "</div>"
      ],
      "text/plain": [
       "             Stocks\n",
       "Date               \n",
       "2009-08-07  1058086\n",
       "2009-08-14  1049688\n",
       "2009-08-21  1049816\n",
       "2009-08-28  1049443\n",
       "2009-09-04  1043637\n",
       "...             ...\n",
       "2011-06-03  1073439\n",
       "2011-06-10  1070033\n",
       "2011-06-17  1068311\n",
       "2011-06-24  1063936\n",
       "2011-07-01  1063063\n",
       "\n",
       "[100 rows x 1 columns]"
      ]
     },
     "execution_count": 5,
     "metadata": {},
     "output_type": "execute_result"
    }
   ],
   "source": [
    "data_stocks               = pd.read_excel('PET_STOC_WSTK_DCU_NUS_W.xls', sheet_name = 'Data 1', skiprows = 2)\n",
    "data_stocks               = data_stocks[['Date', 'Stocks']]\n",
    "data_stocks               = data_stocks[(data_stocks['Date'] >= '2009-08-07') & (data_stocks['Date'] <= '2021-12-31')]\n",
    "data_stocks         = data_stocks.set_index('Date')\n",
    "data_stocks.head(100)"
   ]
  },
  {
   "cell_type": "markdown",
   "metadata": {},
   "source": [
    "### Merging the data together:"
   ]
  },
  {
   "cell_type": "code",
   "execution_count": 6,
   "metadata": {
    "scrolled": true
   },
   "outputs": [
    {
     "data": {
      "text/html": [
       "<div>\n",
       "<style scoped>\n",
       "    .dataframe tbody tr th:only-of-type {\n",
       "        vertical-align: middle;\n",
       "    }\n",
       "\n",
       "    .dataframe tbody tr th {\n",
       "        vertical-align: top;\n",
       "    }\n",
       "\n",
       "    .dataframe thead th {\n",
       "        text-align: right;\n",
       "    }\n",
       "</style>\n",
       "<table border=\"1\" class=\"dataframe\">\n",
       "  <thead>\n",
       "    <tr style=\"text-align: right;\">\n",
       "      <th></th>\n",
       "      <th>F1</th>\n",
       "      <th>Inflation Rate</th>\n",
       "      <th>USD Index</th>\n",
       "      <th>Stocks</th>\n",
       "    </tr>\n",
       "    <tr>\n",
       "      <th>Date</th>\n",
       "      <th></th>\n",
       "      <th></th>\n",
       "      <th></th>\n",
       "      <th></th>\n",
       "    </tr>\n",
       "  </thead>\n",
       "  <tbody>\n",
       "    <tr>\n",
       "      <th>2009-08-07</th>\n",
       "      <td>70.93</td>\n",
       "      <td>NaN</td>\n",
       "      <td>94.4692</td>\n",
       "      <td>1058086.0</td>\n",
       "    </tr>\n",
       "    <tr>\n",
       "      <th>2009-08-10</th>\n",
       "      <td>70.60</td>\n",
       "      <td>NaN</td>\n",
       "      <td>94.6087</td>\n",
       "      <td>NaN</td>\n",
       "    </tr>\n",
       "    <tr>\n",
       "      <th>2009-08-11</th>\n",
       "      <td>69.45</td>\n",
       "      <td>NaN</td>\n",
       "      <td>94.8678</td>\n",
       "      <td>NaN</td>\n",
       "    </tr>\n",
       "    <tr>\n",
       "      <th>2009-08-12</th>\n",
       "      <td>70.16</td>\n",
       "      <td>1.88</td>\n",
       "      <td>94.5394</td>\n",
       "      <td>NaN</td>\n",
       "    </tr>\n",
       "    <tr>\n",
       "      <th>2009-08-13</th>\n",
       "      <td>70.52</td>\n",
       "      <td>1.79</td>\n",
       "      <td>94.2392</td>\n",
       "      <td>NaN</td>\n",
       "    </tr>\n",
       "  </tbody>\n",
       "</table>\n",
       "</div>"
      ],
      "text/plain": [
       "               F1  Inflation Rate  USD Index     Stocks\n",
       "Date                                                   \n",
       "2009-08-07  70.93             NaN    94.4692  1058086.0\n",
       "2009-08-10  70.60             NaN    94.6087        NaN\n",
       "2009-08-11  69.45             NaN    94.8678        NaN\n",
       "2009-08-12  70.16            1.88    94.5394        NaN\n",
       "2009-08-13  70.52            1.79    94.2392        NaN"
      ]
     },
     "execution_count": 6,
     "metadata": {},
     "output_type": "execute_result"
    }
   ],
   "source": [
    "df1 = pd.merge(data_prices_crude,inflation_rate,how = 'left',on='Date')\n",
    "df1 = pd.merge(df1,exchange_rate,how = 'left',on='Date')\n",
    "df1 = pd.merge(df1,data_stocks,how = 'left',on='Date')\n",
    "df1.head()"
   ]
  },
  {
   "cell_type": "markdown",
   "metadata": {},
   "source": [
    "### Stock data is weekly so we must use interpolation:"
   ]
  },
  {
   "cell_type": "code",
   "execution_count": 7,
   "metadata": {},
   "outputs": [],
   "source": [
    "df1['Stocks'].interpolate(inplace=True)\n",
    "df1 = df1.loc['2009-08-12':]"
   ]
  },
  {
   "cell_type": "code",
   "execution_count": 8,
   "metadata": {},
   "outputs": [
    {
     "data": {
      "text/plain": [
       "[<matplotlib.lines.Line2D at 0x7fa5ce61ae48>]"
      ]
     },
     "execution_count": 8,
     "metadata": {},
     "output_type": "execute_result"
    },
    {
     "data": {
      "image/png": "[encoded data removed]",
      "text/plain": [
       "<Figure size 432x288 with 1 Axes>"
      ]
     },
     "metadata": {
      "needs_background": "light"
     },
     "output_type": "display_data"
    }
   ],
   "source": [
    "plt.plot(df1['Stocks'])"
   ]
  },
  {
   "cell_type": "code",
   "execution_count": 9,
   "metadata": {},
   "outputs": [],
   "source": [
    "import pandas_datareader as pdr\n",
    "import seaborn\n",
    "import statsmodels.api as sm\n",
    "from statsmodels.regression.rolling import RollingOLS\n",
    "\n",
    "seaborn.set_style(\"darkgrid\")\n",
    "pd.plotting.register_matplotlib_converters()\n",
    "%matplotlib inline"
   ]
  },
  {
   "cell_type": "markdown",
   "metadata": {},
   "source": [
    "### Getting optimal coefficients:"
   ]
  },
  {
   "cell_type": "code",
   "execution_count": 10,
   "metadata": {},
   "outputs": [
    {
     "data": {
      "text/html": [
       "<div>\n",
       "<style scoped>\n",
       "    .dataframe tbody tr th:only-of-type {\n",
       "        vertical-align: middle;\n",
       "    }\n",
       "\n",
       "    .dataframe tbody tr th {\n",
       "        vertical-align: top;\n",
       "    }\n",
       "\n",
       "    .dataframe thead th {\n",
       "        text-align: right;\n",
       "    }\n",
       "</style>\n",
       "<table border=\"1\" class=\"dataframe\">\n",
       "  <thead>\n",
       "    <tr style=\"text-align: right;\">\n",
       "      <th></th>\n",
       "      <th>const</th>\n",
       "      <th>Inflation Rate</th>\n",
       "      <th>USD Index</th>\n",
       "      <th>Stocks</th>\n",
       "    </tr>\n",
       "  </thead>\n",
       "  <tbody>\n",
       "    <tr>\n",
       "      <th>1</th>\n",
       "      <td>NaN</td>\n",
       "      <td>NaN</td>\n",
       "      <td>NaN</td>\n",
       "      <td>NaN</td>\n",
       "    </tr>\n",
       "    <tr>\n",
       "      <th>2</th>\n",
       "      <td>NaN</td>\n",
       "      <td>NaN</td>\n",
       "      <td>NaN</td>\n",
       "      <td>NaN</td>\n",
       "    </tr>\n",
       "    <tr>\n",
       "      <th>3</th>\n",
       "      <td>NaN</td>\n",
       "      <td>NaN</td>\n",
       "      <td>NaN</td>\n",
       "      <td>NaN</td>\n",
       "    </tr>\n",
       "    <tr>\n",
       "      <th>4</th>\n",
       "      <td>NaN</td>\n",
       "      <td>NaN</td>\n",
       "      <td>NaN</td>\n",
       "      <td>NaN</td>\n",
       "    </tr>\n",
       "    <tr>\n",
       "      <th>5</th>\n",
       "      <td>NaN</td>\n",
       "      <td>NaN</td>\n",
       "      <td>NaN</td>\n",
       "      <td>NaN</td>\n",
       "    </tr>\n",
       "    <tr>\n",
       "      <th>...</th>\n",
       "      <td>...</td>\n",
       "      <td>...</td>\n",
       "      <td>...</td>\n",
       "      <td>...</td>\n",
       "    </tr>\n",
       "    <tr>\n",
       "      <th>3118</th>\n",
       "      <td>-228.150461</td>\n",
       "      <td>20.315538</td>\n",
       "      <td>-0.470935</td>\n",
       "      <td>0.000297</td>\n",
       "    </tr>\n",
       "    <tr>\n",
       "      <th>3119</th>\n",
       "      <td>-187.728962</td>\n",
       "      <td>21.927039</td>\n",
       "      <td>-0.507664</td>\n",
       "      <td>0.000258</td>\n",
       "    </tr>\n",
       "    <tr>\n",
       "      <th>3120</th>\n",
       "      <td>-150.824993</td>\n",
       "      <td>23.830340</td>\n",
       "      <td>-0.550962</td>\n",
       "      <td>0.000223</td>\n",
       "    </tr>\n",
       "    <tr>\n",
       "      <th>3121</th>\n",
       "      <td>-117.391030</td>\n",
       "      <td>26.261025</td>\n",
       "      <td>-0.606247</td>\n",
       "      <td>0.000191</td>\n",
       "    </tr>\n",
       "    <tr>\n",
       "      <th>3122</th>\n",
       "      <td>-279.821665</td>\n",
       "      <td>3.975534</td>\n",
       "      <td>-0.088994</td>\n",
       "      <td>0.000345</td>\n",
       "    </tr>\n",
       "  </tbody>\n",
       "</table>\n",
       "<p>3122 rows × 4 columns</p>\n",
       "</div>"
      ],
      "text/plain": [
       "           const  Inflation Rate  USD Index    Stocks\n",
       "1            NaN             NaN        NaN       NaN\n",
       "2            NaN             NaN        NaN       NaN\n",
       "3            NaN             NaN        NaN       NaN\n",
       "4            NaN             NaN        NaN       NaN\n",
       "5            NaN             NaN        NaN       NaN\n",
       "...          ...             ...        ...       ...\n",
       "3118 -228.150461       20.315538  -0.470935  0.000297\n",
       "3119 -187.728962       21.927039  -0.507664  0.000258\n",
       "3120 -150.824993       23.830340  -0.550962  0.000223\n",
       "3121 -117.391030       26.261025  -0.606247  0.000191\n",
       "3122 -279.821665        3.975534  -0.088994  0.000345\n",
       "\n",
       "[3122 rows x 4 columns]"
      ]
     },
     "execution_count": 10,
     "metadata": {},
     "output_type": "execute_result"
    }
   ],
   "source": [
    "w = 60\n",
    "endog = df1['F1']\n",
    "exog = sm.add_constant(df1[['Inflation Rate','USD Index','Stocks']])\n",
    "rols = RollingOLS(endog, exog, window=w)\n",
    "rres = rols.fit()\n",
    "params = rres.params.copy()\n",
    "params.index = np.arange(1, params.shape[0] + 1)\n",
    "params"
   ]
  },
  {
   "cell_type": "code",
   "execution_count": null,
   "metadata": {},
   "outputs": [],
   "source": [
    "params['Date'] = df1.index\n",
    "params = params.set_index('Date')\n",
    "params.tail()"
   ]
  },
  {
   "cell_type": "markdown",
   "metadata": {},
   "source": [
    "### Merging with WTI dataframe:"
   ]
  },
  {
   "cell_type": "code",
   "execution_count": null,
   "metadata": {},
   "outputs": [],
   "source": [
    "df1_reg = pd.merge(df1,params,how = 'left',on='Date')"
   ]
  },
  {
   "cell_type": "code",
   "execution_count": null,
   "metadata": {
    "scrolled": false
   },
   "outputs": [],
   "source": [
    "df1_regrange = df1_reg.loc['2010-01-04':]\n",
    "df1_regrange"
   ]
  },
  {
   "cell_type": "code",
   "execution_count": null,
   "metadata": {
    "scrolled": false
   },
   "outputs": [],
   "source": [
    "df1_regrange['Predicted F1'] = df1_regrange['const'] + (df1_regrange['Inflation Rate_y']*df1_regrange['Inflation Rate_x']) + (df1_regrange['USD Index_y']*df1_regrange['USD Index_x']) + (df1_regrange['Stocks_y']*df1_regrange['Stocks_x'])\n",
    "df1_regrange\n"
   ]
  },
  {
   "cell_type": "markdown",
   "metadata": {},
   "source": [
    "### Plotting F1 against Predicted F1:"
   ]
  },
  {
   "cell_type": "code",
   "execution_count": null,
   "metadata": {},
   "outputs": [],
   "source": [
    "plt.figure(figsize=(12,8))\n",
    "plt.plot(df1_regrange['F1'],label='F1')\n",
    "plt.plot(df1_regrange['Predicted F1'],label='Predicted F1')\n",
    "plt.legend()\n",
    "plt.savefig('F1 versus Predicted F1 (window = 60).png')\n",
    "plt.show()"
   ]
  },
  {
   "cell_type": "code",
   "execution_count": null,
   "metadata": {},
   "outputs": [],
   "source": [
    "df1_regrange['F1 - Predicted'] = df1_regrange['F1'] - df1_regrange['Predicted F1']\n",
    "df1_regrange"
   ]
  },
  {
   "cell_type": "markdown",
   "metadata": {},
   "source": [
    "### Now let's read in the WTI data with the roll implemented from the first assignment:"
   ]
  },
  {
   "cell_type": "code",
   "execution_count": null,
   "metadata": {},
   "outputs": [],
   "source": [
    "#Reading in the files\n",
    "df_wti           = pd.read_excel('HW3input.xlsx', sheet_name = 'WTI')\n",
    "\n",
    "#transaction cost\n",
    "t = 0.01"
   ]
  },
  {
   "cell_type": "code",
   "execution_count": null,
   "metadata": {},
   "outputs": [],
   "source": [
    "df_wti = df_wti.set_index('Date')\n",
    "df_wti = df_wti.loc['2010-01-04':]\n",
    "df_wti['F1 - Predicted'] = df1_regrange['F1 - Predicted']\n",
    "df_wti"
   ]
  },
  {
   "cell_type": "markdown",
   "metadata": {},
   "source": [
    "### Implementing our strategy and calculating all the necessary values:"
   ]
  },
  {
   "cell_type": "code",
   "execution_count": null,
   "metadata": {},
   "outputs": [],
   "source": [
    "df_wti['C(0)']  = 0.0\n",
    "\n",
    "epsilon = 0\n",
    "\n",
    "for i in range(len(df_wti)):\n",
    "    if df_wti['F1 - Predicted'][i] > epsilon:\n",
    "        df_wti['C(0)'][i] = -1.0\n",
    "    elif df_wti['F1 - Predicted'][i] < epsilon:\n",
    "        df_wti['C(0)'][i] = 1.0"
   ]
  },
  {
   "cell_type": "code",
   "execution_count": null,
   "metadata": {},
   "outputs": [],
   "source": [
    "df_wti['P/L'] = 0.0\n",
    "\n",
    "for i in range(1,len(df_wti)):\n",
    "    df_wti['P/L'][i] = df_wti['Cumulative_P/L_barrel'][i]-df_wti['Cumulative_P/L_barrel'][i-1]"
   ]
  },
  {
   "cell_type": "code",
   "execution_count": null,
   "metadata": {},
   "outputs": [],
   "source": [
    "df_wti['P/L_short'] = -df_wti['P/L']\n",
    "\n",
    "# have to reverse the transaction costs for the roll\n",
    "for i in range(1,len(df_wti)):\n",
    "    if df_wti['Holding_type'][i] == 1 and df_wti['Holding_type'][i-1] == 0:\n",
    "        df_wti['P/L_short'][i-1] = df_wti['P/L_short'][i-1] - 0.04"
   ]
  },
  {
   "cell_type": "code",
   "execution_count": null,
   "metadata": {
    "scrolled": false
   },
   "outputs": [],
   "source": [
    "df_wti.tail()"
   ]
  },
  {
   "cell_type": "code",
   "execution_count": null,
   "metadata": {
    "scrolled": true
   },
   "outputs": [],
   "source": [
    "df_wti['P/L_C(0)'] = 0.0\n",
    "df_wti['Cumulative_P/L_C(0)'] = 0.0\n",
    "\n",
    "# deciding whether your P&L is from the long or short position\n",
    "for i in range(1,len(df_wti)):\n",
    "    if (df_wti['C(0)'][i-1] == 1):\n",
    "        df_wti['P/L_C(0)'][i] = df_wti['P/L'][i]\n",
    "        \n",
    "    if (df_wti['C(0)'][i-1] == -1):\n",
    "        df_wti['P/L_C(0)'][i] = df_wti['P/L_short'][i]\n",
    "    \n",
    "\n",
    "# if it is time to switch positions you have to add the transaction costs\n",
    "for i in range(1,len(df_wti)):\n",
    "    if df_wti['C(0)'][i] != df_wti['C(0)'][i-1]:\n",
    "        df_wti['P/L_C(0)'][i] -= 0.02\n",
    "\n",
    "# calculating cumulative P&L\n",
    "for i in range(1,len(df_wti)):\n",
    "    df_wti['Cumulative_P/L_C(0)'][i] = df_wti['P/L_C(0)'][i] + df_wti['Cumulative_P/L_C(0)'][i-1]\n",
    "\n",
    "#just to see the behaviour when the c(0) sign flips. You can see we account for the transaction costs here\n",
    "df_wti.tail(25)"
   ]
  },
  {
   "cell_type": "code",
   "execution_count": null,
   "metadata": {},
   "outputs": [],
   "source": [
    "df_wti['P(t)_C(0)'] = 0.0\n",
    "\n",
    "for i in range(1,len(df_wti)):\n",
    "    df_wti['P(t)_C(0)'][i] = df_wti['P(t)_C(0)'][i-1] +(df_wti['P/L_C(0)'][i]*100000)\n",
    "    \n",
    "df_wti.tail(2)"
   ]
  },
  {
   "cell_type": "code",
   "execution_count": null,
   "metadata": {},
   "outputs": [],
   "source": [
    "df_wti['dF(t)_C(0)'] = df_wti['P/L_C(0)']*100000"
   ]
  },
  {
   "cell_type": "markdown",
   "metadata": {},
   "source": [
    "### Calculating performance metrics:"
   ]
  },
  {
   "cell_type": "code",
   "execution_count": null,
   "metadata": {},
   "outputs": [],
   "source": [
    "N = 12\n",
    "\n",
    "ann_PL_C = df_wti['P(t)_C(0)'][-1]/N\n",
    "\n",
    "print(f\"C(0) Average Annual P&L: {ann_PL_C}\")"
   ]
  },
  {
   "cell_type": "code",
   "execution_count": null,
   "metadata": {},
   "outputs": [],
   "source": [
    "ann_SR_C = ann_PL_C/(np.std(df_wti['dF(t)_C(0)'])*np.sqrt(250))\n",
    "\n",
    "print(f\"C(0) Annualised Sharpe Ratio: {ann_SR_C}\")"
   ]
  },
  {
   "cell_type": "code",
   "execution_count": null,
   "metadata": {},
   "outputs": [],
   "source": [
    "df_wti['HWM_C(0)'] = 0.0\n",
    "df_wti['DD_C(0)'] = 0.0\n",
    "\n",
    "for i in range(len(df_wti)):\n",
    "    df_wti['HWM_C(0)'][i] = np.max(df_wti['P(t)_C(0)'][0:i+1])\n",
    "    \n",
    "    df_wti['DD_C(0)'][i] = df_wti['HWM_C(0)'][i] - df_wti['P(t)_C(0)'][i]\n"
   ]
  },
  {
   "cell_type": "code",
   "execution_count": null,
   "metadata": {},
   "outputs": [],
   "source": [
    "mdd_C = np.max(df_wti['DD_C(0)'])\n",
    "mdd_Cdate = df_wti['DD_C(0)'].idxmax()\n",
    "\n",
    "print(f\"C(0) Maximum Drawdown: {mdd_C} at {mdd_Cdate}\")"
   ]
  },
  {
   "cell_type": "markdown",
   "metadata": {},
   "source": [
    "### Graphing the equity line:"
   ]
  },
  {
   "cell_type": "code",
   "execution_count": null,
   "metadata": {},
   "outputs": [],
   "source": [
    "import seaborn as sns\n",
    "sns.set()\n",
    "\n",
    "plt.figure(figsize=(10, 6), dpi=80)\n",
    "plt.ticklabel_format(style='plain')\n",
    "plt.plot(df_wti.index, df_wti['P(t)_C(0)'], label = 'C(0) Equity Line')\n",
    "plt.plot(df_wti.index, -df_wti['DD_C(0)'], label = 'C(0) Drawdown',alpha=0.5)\n",
    "plt.xlabel('Time')\n",
    "plt.ylabel('Price')\n",
    "plt.legend()\n",
    "plt.savefig('equity line and drawdown not optpitmized')\n",
    "plt.show()"
   ]
  },
  {
   "cell_type": "markdown",
   "metadata": {},
   "source": [
    "### Now let's try to find the optimal parameters for the strategy. First let's find the optimal value for w, which is the rolling window value for the rolling regression calculation:"
   ]
  },
  {
   "cell_type": "code",
   "execution_count": null,
   "metadata": {},
   "outputs": [],
   "source": [
    "ws = np.arange(11,70,1)\n",
    "\n",
    "SRoptimal = 0.0\n",
    "Wopt = 0.0\n",
    "epsilon = 0\n",
    "\n",
    "for w in ws:\n",
    "    print(w,':')\n",
    "    print('')\n",
    "    endog                          = df1['F1']\n",
    "    exog                           = sm.add_constant(df1[['Inflation Rate','USD Index','Stocks']])\n",
    "    rols                           = RollingOLS(endog, exog, window=w,min_nobs=10)\n",
    "    rres                           = rols.fit()\n",
    "    params                         = rres.params.copy()\n",
    "    params.index                   = np.arange(1, params.shape[0] + 1)\n",
    "    \n",
    "    params['Date']                 = df1.index\n",
    "    params                         = params.set_index('Date')\n",
    "    \n",
    "    df1_reg                        = pd.merge(df1,params,how = 'left',on='Date')\n",
    "    \n",
    "    df1_regrange                   = df1_reg.loc['2010-01-04':]\n",
    "    df1_regrange['Predicted F1']   = df1_regrange['const'] + (df1_regrange['Inflation Rate_y']*df1_regrange['Inflation Rate_x']) + (df1_regrange['USD Index_y']*df1_regrange['USD Index_x']) + (df1_regrange['Stocks_y']*df1_regrange['Stocks_x'])\n",
    "    \n",
    "    df1_regrange['F1 - Predicted'] = df1_regrange['F1'] - df1_regrange['Predicted F1']\n",
    "    df_wti['F1 - Predicted']       = df1_regrange['F1 - Predicted']\n",
    "    \n",
    "    df_wti['C(0)']  = 0.0\n",
    "    for i in range(len(df_wti)):\n",
    "        if df_wti['F1 - Predicted'][i] > epsilon:\n",
    "            df_wti['C(0)'][i] = -1.0\n",
    "        elif df_wti['F1 - Predicted'][i] < epsilon:\n",
    "            df_wti['C(0)'][i] = 1.0\n",
    "            \n",
    "    df_wti['P/L_C(0)'] = 0.0\n",
    "    df_wti['Cumulative_P/L_C(0)'] = 0.0\n",
    "\n",
    "    # deciding whether your P&L is from the long or short position\n",
    "    for i in range(1,len(df_wti)):\n",
    "        if (df_wti['C(0)'][i-1] == 1):\n",
    "            df_wti['P/L_C(0)'][i] = df_wti['P/L'][i]\n",
    "        \n",
    "        if (df_wti['C(0)'][i-1] == -1):\n",
    "            df_wti['P/L_C(0)'][i] = df_wti['P/L_short'][i]\n",
    "    \n",
    "\n",
    "    # if it is time to switch positions you have to add the transaction costs\n",
    "    for i in range(1,len(df_wti)):\n",
    "        if df_wti['C(0)'][i] != df_wti['C(0)'][i-1]:\n",
    "            df_wti['P/L_C(0)'][i] -= 0.02\n",
    "\n",
    "    # calculating cumulative P&L\n",
    "    for i in range(1,len(df_wti)):\n",
    "        df_wti['Cumulative_P/L_C(0)'][i] = df_wti['P/L_C(0)'][i] + df_wti['Cumulative_P/L_C(0)'][i-1]\n",
    "        \n",
    "    df_wti['P(t)_C(0)'] = 0.0\n",
    "\n",
    "    for i in range(1,len(df_wti)):\n",
    "        df_wti['P(t)_C(0)'][i] = df_wti['P(t)_C(0)'][i-1] +(df_wti['P/L_C(0)'][i]*100000)\n",
    "    \n",
    "    df_wti['dF(t)_C(0)'] = df_wti['P/L_C(0)']*100000\n",
    "    \n",
    "    ann_PL_C = df_wti['P(t)_C(0)'][-1]/N\n",
    "    print(f\"C(0) Average Annual P&L: {ann_PL_C}\")\n",
    "    \n",
    "    ann_SR_C = ann_PL_C/(np.std(df_wti['dF(t)_C(0)'])*np.sqrt(250))\n",
    "    print(f\"C(0) Annualised Sharpe Ratio: {ann_SR_C}\")\n",
    "    \n",
    "    df_wti['HWM_C(0)'] = 0.0\n",
    "    df_wti['DD_C(0)'] = 0.0\n",
    "\n",
    "    for i in range(len(df_wti)):\n",
    "        df_wti['HWM_C(0)'][i] = np.max(df_wti['P(t)_C(0)'][0:i+1])\n",
    "        df_wti['DD_C(0)'][i] = df_wti['HWM_C(0)'][i] - df_wti['P(t)_C(0)'][i]\n",
    "        \n",
    "    mdd_C = np.max(df_wti['DD_C(0)'])\n",
    "    mdd_Cdate = df_wti['DD_C(0)'].idxmax()\n",
    "\n",
    "    print(f\"C(0) Maximum Drawdown: {mdd_C} at {mdd_Cdate}\")\n",
    "    \n",
    "    if ann_SR_C > SRoptimal:\n",
    "        SRoptimal = ann_SR_C\n",
    "        Wopt = w"
   ]
  },
  {
   "cell_type": "code",
   "execution_count": null,
   "metadata": {},
   "outputs": [],
   "source": [
    "print(SRoptimal)\n",
    "print(Wopt)"
   ]
  },
  {
   "cell_type": "markdown",
   "metadata": {},
   "source": [
    "### Thus the optimal rolling regression parameter is w=50, giving a Sharpe Ratio of 0.42 (epsilon=0)\n",
    "\n",
    "### Run these cells again:"
   ]
  },
  {
   "cell_type": "code",
   "execution_count": null,
   "metadata": {},
   "outputs": [],
   "source": [
    "w = 50\n",
    "endog = df1['F1']\n",
    "exog = sm.add_constant(df1[['Inflation Rate','USD Index','Stocks']])\n",
    "rols = RollingOLS(endog, exog, window=w)\n",
    "rres = rols.fit()\n",
    "params = rres.params.copy()\n",
    "params.index = np.arange(1, params.shape[0] + 1)"
   ]
  },
  {
   "cell_type": "code",
   "execution_count": null,
   "metadata": {},
   "outputs": [],
   "source": [
    "params['Date'] = df1.index\n",
    "params = params.set_index('Date')"
   ]
  },
  {
   "cell_type": "code",
   "execution_count": null,
   "metadata": {},
   "outputs": [],
   "source": [
    "df1_reg = pd.merge(df1,params,how = 'left',on='Date')"
   ]
  },
  {
   "cell_type": "code",
   "execution_count": null,
   "metadata": {
    "scrolled": false
   },
   "outputs": [],
   "source": [
    "df1_regrange = df1_reg.loc['2010-01-04':]"
   ]
  },
  {
   "cell_type": "code",
   "execution_count": null,
   "metadata": {},
   "outputs": [],
   "source": [
    "df1_regrange['Predicted F1'] = df1_regrange['const'] + (df1_regrange['Inflation Rate_y']*df1_regrange['Inflation Rate_x']) + (df1_regrange['USD Index_y']*df1_regrange['USD Index_x']) + (df1_regrange['Stocks_y']*df1_regrange['Stocks_x'])"
   ]
  },
  {
   "cell_type": "code",
   "execution_count": null,
   "metadata": {},
   "outputs": [],
   "source": [
    "plt.figure(figsize=(12,8))\n",
    "plt.plot(df1_regrange['F1'],label='F1')\n",
    "plt.plot(df1_regrange['Predicted F1'],label='Predicted F1')\n",
    "plt.legend()\n",
    "plt.savefig('F1 versus Predicted F1 (opt window=50)')\n",
    "plt.show()"
   ]
  },
  {
   "cell_type": "code",
   "execution_count": null,
   "metadata": {},
   "outputs": [],
   "source": [
    "df1_regrange['F1 - Predicted'] = df1_regrange['F1'] - df1_regrange['Predicted F1']"
   ]
  },
  {
   "cell_type": "code",
   "execution_count": null,
   "metadata": {},
   "outputs": [],
   "source": [
    "#Reading in the files\n",
    "df_wti           = pd.read_excel('HW3input.xlsx', sheet_name = 'WTI')\n",
    "\n",
    "#transaction cost\n",
    "t = 0.01"
   ]
  },
  {
   "cell_type": "code",
   "execution_count": null,
   "metadata": {
    "scrolled": false
   },
   "outputs": [],
   "source": [
    "df_wti = df_wti.set_index('Date')\n",
    "df_wti = df_wti.loc['2010-01-04':]\n",
    "df_wti['F1 - Predicted'] = df1_regrange['F1 - Predicted']"
   ]
  },
  {
   "cell_type": "code",
   "execution_count": null,
   "metadata": {},
   "outputs": [],
   "source": [
    "df_wti['P/L'] = 0.0\n",
    "\n",
    "for i in range(1,len(df_wti)):\n",
    "    df_wti['P/L'][i] = df_wti['Cumulative_P/L_barrel'][i]-df_wti['Cumulative_P/L_barrel'][i-1]"
   ]
  },
  {
   "cell_type": "code",
   "execution_count": null,
   "metadata": {},
   "outputs": [],
   "source": [
    "df_wti['P/L_short'] = -df_wti['P/L']\n",
    "\n",
    "# have to reverse the transaction costs for the roll\n",
    "for i in range(1,len(df_wti)):\n",
    "    if df_wti['Holding_type'][i] == 1 and df_wti['Holding_type'][i-1] == 0:\n",
    "        df_wti['P/L_short'][i-1] = df_wti['P/L_short'][i-1] - 0.04"
   ]
  },
  {
   "cell_type": "markdown",
   "metadata": {},
   "source": [
    "### Now let's optimise epsilon, which is the parameter used in our strategy function:"
   ]
  },
  {
   "cell_type": "code",
   "execution_count": null,
   "metadata": {
    "scrolled": false
   },
   "outputs": [],
   "source": [
    "epsilons = np.arange(0.0,1.01,0.01)\n",
    "SRoptimal = 0.0\n",
    "Eopt = 0.0\n",
    "\n",
    "for epsilon in epsilons:\n",
    "    print(epsilon,\":\")\n",
    "    print(\"\")\n",
    "    \n",
    "    df_wti['C(0)']  = 0.0\n",
    "    for i in range(len(df_wti)):\n",
    "        if df_wti['F1 - Predicted'][i] > epsilon:\n",
    "            df_wti['C(0)'][i] = -1.0\n",
    "        elif df_wti['F1 - Predicted'][i] < epsilon:\n",
    "            df_wti['C(0)'][i] = 1.0\n",
    "            \n",
    "    df_wti['P/L_C(0)'] = 0.0\n",
    "    df_wti['Cumulative_P/L_C(0)'] = 0.0\n",
    "\n",
    "    # deciding whether your P&L is from the long or short position\n",
    "    for i in range(1,len(df_wti)):\n",
    "        if (df_wti['C(0)'][i-1] == 1):\n",
    "            df_wti['P/L_C(0)'][i] = df_wti['P/L'][i]\n",
    "        \n",
    "        if (df_wti['C(0)'][i-1] == -1):\n",
    "            df_wti['P/L_C(0)'][i] = df_wti['P/L_short'][i]\n",
    "    \n",
    "\n",
    "    # if it is time to switch positions you have to add the transaction costs\n",
    "    for i in range(1,len(df_wti)):\n",
    "        if df_wti['C(0)'][i] != df_wti['C(0)'][i-1]:\n",
    "            df_wti['P/L_C(0)'][i] -= 0.02\n",
    "\n",
    "    # calculating cumulative P&L\n",
    "    for i in range(1,len(df_wti)):\n",
    "        df_wti['Cumulative_P/L_C(0)'][i] = df_wti['P/L_C(0)'][i] + df_wti['Cumulative_P/L_C(0)'][i-1]\n",
    "        \n",
    "    df_wti['P(t)_C(0)'] = 0.0\n",
    "\n",
    "    for i in range(1,len(df_wti)):\n",
    "        df_wti['P(t)_C(0)'][i] = df_wti['P(t)_C(0)'][i-1] +(df_wti['P/L_C(0)'][i]*100000)\n",
    "    \n",
    "    df_wti['dF(t)_C(0)'] = df_wti['P/L_C(0)']*100000\n",
    "    \n",
    "    ann_PL_C = df_wti['P(t)_C(0)'][-1]/N\n",
    "    print(f\"C({epsilon}) Average Annual P&L: {ann_PL_C}\")\n",
    "    \n",
    "    ann_SR_C = ann_PL_C/(np.std(df_wti['dF(t)_C(0)'])*np.sqrt(250))\n",
    "    print(f\"C({epsilon}) Annualised Sharpe Ratio: {ann_SR_C}\")\n",
    "    \n",
    "    df_wti['HWM_C(0)'] = 0.0\n",
    "    df_wti['DD_C(0)'] = 0.0\n",
    "\n",
    "    for i in range(len(df_wti)):\n",
    "        df_wti['HWM_C(0)'][i] = np.max(df_wti['P(t)_C(0)'][0:i+1])\n",
    "        df_wti['DD_C(0)'][i] = df_wti['HWM_C(0)'][i] - df_wti['P(t)_C(0)'][i]\n",
    "        \n",
    "    mdd_C = np.max(df_wti['DD_C(0)'])\n",
    "    mdd_Cdate = df_wti['DD_C(0)'].idxmax()\n",
    "\n",
    "    print(f\"C({epsilon}) Maximum Drawdown: {mdd_C} at {mdd_Cdate}\")\n",
    "    print(\"\")\n",
    "    \n",
    "    if ann_SR_C > SRoptimal:\n",
    "        SRoptimal = ann_SR_C\n",
    "        Eopt = epsilon\n"
   ]
  },
  {
   "cell_type": "code",
   "execution_count": null,
   "metadata": {},
   "outputs": [],
   "source": [
    "print(f'Best Sharpe Ratio: {SRoptimal}, Best epsilon: {Eopt}')"
   ]
  },
  {
   "cell_type": "markdown",
   "metadata": {},
   "source": [
    "### Thus the optimal Sharpe Ratio is 0.42 when $\\epsilon = 0$. Let's experiment with higher values of $\\epsilon$:"
   ]
  },
  {
   "cell_type": "code",
   "execution_count": null,
   "metadata": {},
   "outputs": [],
   "source": [
    "epsilons = [10,9,8,7,6,5,4,3,2,0]\n",
    "SRoptimal = 0.0\n",
    "Eopt = 0.0\n",
    "\n",
    "for epsilon in epsilons:\n",
    "    print(epsilon,\":\")\n",
    "    print(\"\")\n",
    "    \n",
    "    df_wti['C(0)']  = 0.0\n",
    "    for i in range(len(df_wti)):\n",
    "        if df_wti['F1 - Predicted'][i] > epsilon:\n",
    "            df_wti['C(0)'][i] = -1.0\n",
    "        elif df_wti['F1 - Predicted'][i] < epsilon:\n",
    "            df_wti['C(0)'][i] = 1.0\n",
    "            \n",
    "    df_wti['P/L_C(0)'] = 0.0\n",
    "    df_wti['Cumulative_P/L_C(0)'] = 0.0\n",
    "\n",
    "    # deciding whether your P&L is from the long or short position\n",
    "    for i in range(1,len(df_wti)):\n",
    "        if (df_wti['C(0)'][i-1] == 1):\n",
    "            df_wti['P/L_C(0)'][i] = df_wti['P/L'][i]\n",
    "        \n",
    "        if (df_wti['C(0)'][i-1] == -1):\n",
    "            df_wti['P/L_C(0)'][i] = df_wti['P/L_short'][i]\n",
    "    \n",
    "\n",
    "    # if it is time to switch positions you have to add the transaction costs\n",
    "    for i in range(1,len(df_wti)):\n",
    "        if df_wti['C(0)'][i] != df_wti['C(0)'][i-1]:\n",
    "            df_wti['P/L_C(0)'][i] -= 0.02\n",
    "\n",
    "    # calculating cumulative P&L\n",
    "    for i in range(1,len(df_wti)):\n",
    "        df_wti['Cumulative_P/L_C(0)'][i] = df_wti['P/L_C(0)'][i] + df_wti['Cumulative_P/L_C(0)'][i-1]\n",
    "        \n",
    "    df_wti['P(t)_C(0)'] = 0.0\n",
    "\n",
    "    for i in range(1,len(df_wti)):\n",
    "        df_wti['P(t)_C(0)'][i] = df_wti['P(t)_C(0)'][i-1] +(df_wti['P/L_C(0)'][i]*100000)\n",
    "    \n",
    "    df_wti['dF(t)_C(0)'] = df_wti['P/L_C(0)']*100000\n",
    "    \n",
    "    ann_PL_C = df_wti['P(t)_C(0)'][-1]/N\n",
    "    print(f\"C({epsilon}) Average Annual P&L: {ann_PL_C}\")\n",
    "    \n",
    "    ann_SR_C = ann_PL_C/(np.std(df_wti['dF(t)_C(0)'])*np.sqrt(250))\n",
    "    print(f\"C({epsilon}) Annualised Sharpe Ratio: {ann_SR_C}\")\n",
    "    \n",
    "    df_wti['HWM_C(0)'] = 0.0\n",
    "    df_wti['DD_C(0)'] = 0.0\n",
    "\n",
    "    for i in range(len(df_wti)):\n",
    "        df_wti['HWM_C(0)'][i] = np.max(df_wti['P(t)_C(0)'][0:i+1])\n",
    "        df_wti['DD_C(0)'][i] = df_wti['HWM_C(0)'][i] - df_wti['P(t)_C(0)'][i]\n",
    "        \n",
    "    mdd_C = np.max(df_wti['DD_C(0)'])\n",
    "    mdd_Cdate = df_wti['DD_C(0)'].idxmax()\n",
    "\n",
    "    print(f\"C({epsilon}) Maximum Drawdown: {mdd_C} at {mdd_Cdate}\")\n",
    "    print(\"\")\n",
    "    \n",
    "    if ann_SR_C > SRoptimal:\n",
    "        SRoptimal = ann_SR_C\n",
    "        Eopt = epsilon"
   ]
  },
  {
   "cell_type": "markdown",
   "metadata": {},
   "source": [
    "### So $\\epsilon = 0$, $w = 50$ is the optimal pairing here. Our final results are:\n",
    "\n",
    "- C(0) Average Annual P&L: 909333.3333333308\n",
    "- C(0) Annualised Sharpe Ratio: 0.42060292596024096\n",
    "- C(0) Maximum Drawdown: 5717000.000000048 at 2021-11-01 00:00:00\n",
    "\n",
    "### Let's finally see the tail end of the dataframe and also graph the equity line for these optimal parameters:"
   ]
  },
  {
   "cell_type": "code",
   "execution_count": null,
   "metadata": {},
   "outputs": [],
   "source": [
    "df_wti.tail()"
   ]
  },
  {
   "cell_type": "code",
   "execution_count": null,
   "metadata": {},
   "outputs": [],
   "source": [
    "plt.figure(figsize=(10, 6), dpi=80)\n",
    "plt.ticklabel_format(style='plain')\n",
    "plt.plot(df_wti.index, df_wti['P(t)_C(0)'], label = 'C(0) Equity Line')\n",
    "plt.plot(df_wti.index, -df_wti['DD_C(0)'], label = 'C(0) Drawdown',alpha=0.5)\n",
    "plt.xlabel('Time')\n",
    "plt.ylabel('Price')\n",
    "plt.legend()\n",
    "plt.savefig('equity line and drawdown optimized')\n",
    "plt.show()"
   ]
  },
  {
   "cell_type": "markdown",
   "metadata": {},
   "source": [
    "### Let s downdload the data in an excel file"
   ]
  },
  {
   "cell_type": "code",
   "execution_count": null,
   "metadata": {},
   "outputs": [],
   "source": [
    "# determining the name of the file\n",
    "file_name = 'model_strategy_Arthur_Arjun.xlsx'\n",
    "  \n",
    "# saving the excel\n",
    "df_wti.to_excel(file_name)\n",
    "print('DataFrame is written to Excel File successfully.')"
   ]
  },
  {
   "cell_type": "code",
   "execution_count": null,
   "metadata": {},
   "outputs": [],
   "source": []
  },
  {
   "cell_type": "code",
   "execution_count": null,
   "metadata": {},
   "outputs": [],
   "source": []
  },
  {
   "cell_type": "markdown",
   "metadata": {},
   "source": [
    "### On top of this, and in light of the current political landscape, we also thought it would be interesting to add war sentiment into the strategy somehow. So let's first find and import some data to hopefully derive some conclusions on a more complex strategy. The data we will be using is deaths from conflict and terrorism per 100,000 in the Middle East & North Africa:"
   ]
  },
  {
   "cell_type": "code",
   "execution_count": null,
   "metadata": {},
   "outputs": [],
   "source": [
    "data_war         = pd.read_csv('deaths-conflict-terrorism-per-100000.csv')\n",
    "data_war         = data_war[data_war['Entity'] == 'Middle East & North Africa']\n",
    "data_war         = data_war[['Year','Deaths - Conflict and terrorism - Sex: Both - Age: All Ages (Rate)']]\n",
    "data_war.rename(columns={\"Year\": \"Date\", \"Deaths - Conflict and terrorism - Sex: Both - Age: All Ages (Rate)\": \"Deaths\"},inplace=True)\n",
    "data_war         = data_war.set_index('Date')\n",
    "data_war.index   = pd.to_datetime(data_war.index,format='%Y')\n",
    "data_war         = data_war[(data_war.index >= '2010-01-01') & (data_war.index <= '2021-01-01')]\n",
    "data_war.head(15)"
   ]
  },
  {
   "cell_type": "code",
   "execution_count": null,
   "metadata": {},
   "outputs": [],
   "source": [
    "df_wti2       = df_wti\n",
    "wti_war = df_wti2.merge(data_war,how='outer',left_index=True,right_index=True)\n",
    "wti_war"
   ]
  },
  {
   "cell_type": "markdown",
   "metadata": {},
   "source": [
    "### Interpolate the death count:"
   ]
  },
  {
   "cell_type": "code",
   "execution_count": null,
   "metadata": {},
   "outputs": [],
   "source": [
    "wti_war['Deaths'].interpolate(inplace=True)\n",
    "wti_war = wti_war.loc['2010-01-04':'2019-12-31']\n",
    "wti_war"
   ]
  },
  {
   "cell_type": "code",
   "execution_count": null,
   "metadata": {},
   "outputs": [],
   "source": [
    "wti_war['Deaths'].dtypes"
   ]
  },
  {
   "cell_type": "code",
   "execution_count": null,
   "metadata": {
    "scrolled": true
   },
   "outputs": [],
   "source": [
    "plt.plot(wti_war['Deaths'])"
   ]
  },
  {
   "cell_type": "markdown",
   "metadata": {},
   "source": [
    "### The strategy is to hold nothing when the deaths are above the threshold. We initially did this with no time lag  we decided to add a time lag of approximately 1 year as acts of war and terror usually occur in succession:"
   ]
  },
  {
   "cell_type": "code",
   "execution_count": null,
   "metadata": {},
   "outputs": [],
   "source": [
    "wti_war.dropna(inplace=True)\n",
    "thresholds = [25.0,24.0,23.0,22.0,21.0]\n",
    "SRoptimal = 0.0\n",
    "Topt = 0.0\n",
    "epsilon = 0\n",
    "\n",
    "for t in thresholds:\n",
    "    print(t,\":\")\n",
    "    print(\"\")\n",
    "    \n",
    "    wti_war['C(0)']  = None\n",
    "    for i in range(len(wti_war)):\n",
    "        \n",
    "        if wti_war['C(0)'][i] == 0.0:\n",
    "            continue\n",
    "        if wti_war['Deaths'][i] > t:\n",
    "            wti_war['C(0)'][i+250] = 0.0\n",
    "            \n",
    "        if wti_war['F1 - Predicted'][i] > epsilon:\n",
    "                wti_war['C(0)'][i] = -1.0\n",
    "        elif wti_war['F1 - Predicted'][i] < epsilon:\n",
    "                wti_war['C(0)'][i] = 1.0 \n",
    "                \n",
    "    wti_war['P/L_C(0)'] = 0.0\n",
    "    wti_war['Cumulative_P/L_C(0)'] = 0.0\n",
    "\n",
    "    # deciding whether your P&L is from the long or short position\n",
    "    for i in range(1,len(wti_war)):\n",
    "        if (wti_war['C(0)'][i-1] == 0.0):\n",
    "            wti_war['P/L_C(0)'][i] = 0.0\n",
    "        \n",
    "        elif (wti_war['C(0)'][i-1] == 1.0):\n",
    "            wti_war['P/L_C(0)'][i] = wti_war['P/L'][i]\n",
    "        \n",
    "        elif (wti_war['C(0)'][i-1] == -1.0):\n",
    "            wti_war['P/L_C(0)'][i] = wti_war['P/L_short'][i]\n",
    "            \n",
    "    \n",
    "    # if it is time to switch positions you have to add the transaction costs\n",
    "    for i in range(1,len(wti_war)):\n",
    "        if wti_war['C(0)'][i] != wti_war['C(0)'][i-1]:\n",
    "            wti_war['P/L_C(0)'][i] -= 0.02\n",
    "\n",
    "    # calculating cumulative P&L\n",
    "    for i in range(1,len(wti_war)):\n",
    "        wti_war['Cumulative_P/L_C(0)'][i] = wti_war['P/L_C(0)'][i] + wti_war['Cumulative_P/L_C(0)'][i-1]\n",
    "        \n",
    "    wti_war['P(t)_C(0)'] = 0.0\n",
    "\n",
    "    for i in range(1,len(wti_war)):\n",
    "        wti_war['P(t)_C(0)'][i] = wti_war['P(t)_C(0)'][i-1] +(wti_war['P/L_C(0)'][i]*100000)\n",
    "    \n",
    "    wti_war['dF(t)_C(0)'] = wti_war['P/L_C(0)']*100000\n",
    "    \n",
    "    ann_PL_C = wti_war['P(t)_C(0)'][-1]/N\n",
    "    print(f\"C(0) Average Annual P&L: {ann_PL_C}\")\n",
    "    \n",
    "    ann_SR_C = ann_PL_C/(np.std(wti_war['dF(t)_C(0)'])*np.sqrt(250))\n",
    "    print(f\"C(0) Annualised Sharpe Ratio: {ann_SR_C}\")\n",
    "    \n",
    "    wti_war['HWM_C(0)'] = 0.0\n",
    "    wti_war['DD_C(0)'] = 0.0\n",
    "\n",
    "    for i in range(len(wti_war)):\n",
    "        wti_war['HWM_C(0)'][i] = np.max(wti_war['P(t)_C(0)'][0:i+1])\n",
    "        wti_war['DD_C(0)'][i] = wti_war['HWM_C(0)'][i] - wti_war['P(t)_C(0)'][i]\n",
    "        \n",
    "    mdd_C = np.max(wti_war['DD_C(0)'])\n",
    "    mdd_Cdate = wti_war['DD_C(0)'].idxmax()\n",
    "\n",
    "    print(f\"C(0) Maximum Drawdown: {mdd_C} at {mdd_Cdate}\")\n",
    "    print(\"\")\n",
    "    \n",
    "    if ann_SR_C > SRoptimal:\n",
    "        SRoptimal = ann_SR_C\n",
    "        Topt = t"
   ]
  },
  {
   "cell_type": "markdown",
   "metadata": {},
   "source": [
    "### Now our optimal results are with a threshold of 21:\n",
    "\n",
    "- C(0) Average Annual P&L: 1164000.0000000016\n",
    "- C(0) Annualised Sharpe Ratio: 0.6115587914972023\n",
    "- C(0) Maximum Drawdown: 3742999.999999998 at 2011-08-09 00:00:00\n",
    "\n",
    "### Let's also graph the equity line below:"
   ]
  },
  {
   "cell_type": "code",
   "execution_count": null,
   "metadata": {},
   "outputs": [],
   "source": [
    "plt.figure(figsize=(10, 6), dpi=80)\n",
    "plt.ticklabel_format(style='plain')\n",
    "plt.plot(wti_war.index, wti_war['P(t)_C(0)'], label = 'C(0.01) Equity Line')\n",
    "plt.plot(wti_war.index, -wti_war['DD_C(0)'], label = 'C(0.01) Drawdown',alpha=0.5)\n",
    "plt.xlabel('Time')\n",
    "plt.ylabel('Price')\n",
    "plt.legend()\n",
    "plt.savefig('EL + drawdown and geopolitical risk reduction')\n",
    "plt.show()"
   ]
  },
  {
   "cell_type": "markdown",
   "metadata": {},
   "source": [
    "### Although the war-based strategy is obviously not the most robust and may be completely random, we can see that by assigning a threshold to terminate trading we have considerably reduced maximum drawdown and thus reduced risk and improved P&L. We have also improved the Sharpe ratio by so this experiment was surprisingly successful. By sampling over a larger range we may be able to see more reliable patterns, but we may not have spent enough time in a globalising economy to notice patterns/time-lags like these."
   ]
  },
  {
   "cell_type": "code",
   "execution_count": null,
   "metadata": {},
   "outputs": [],
   "source": []
  },
  {
   "cell_type": "code",
   "execution_count": null,
   "metadata": {},
   "outputs": [],
   "source": [
    "# determining the name of the file\n",
    "file_name = 'model_strategy_Arthur_Arjun_with_geopolitical_risk_reduction.xlsx'\n",
    "  \n",
    "# saving the excel\n",
    "df_wti.to_excel(file_name)\n",
    "print('DataFrame is written to Excel File successfully.')"
   ]
  }
 ],
 "metadata": {
  "kernelspec": {
   "display_name": "Python 3",
   "language": "python",
   "name": "python3"
  },
  "language_info": {
   "codemirror_mode": {
    "name": "ipython",
    "version": 3
   },
   "file_extension": ".py",
   "mimetype": "text/x-python",
   "name": "python",
   "nbconvert_exporter": "python",
   "pygments_lexer": "ipython3",
   "version": "3.7.3"
  }
 },
 "nbformat": 4,
 "nbformat_minor": 2
}
